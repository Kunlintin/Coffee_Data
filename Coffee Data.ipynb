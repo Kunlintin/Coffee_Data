{
 "cells": [
  {
   "cell_type": "markdown",
   "id": "9fe3d749",
   "metadata": {},
   "source": [
    "# Coffee Data"
   ]
  },
  {
   "cell_type": "markdown",
   "id": "607dbc60",
   "metadata": {},
   "source": [
    "*Caffeine Form is a company creating coffee cups from recycled material.\n",
    "The company believes that stores with more reviews will help them to better market their\n",
    "product.\n",
    "The company want to focus on the types of shop that get the most reviews.\n",
    "They now want a report on how types of shop and number of reviews are related.*\n",
    "\n",
    "Region - Places where different kind of shop types can be found<br>\n",
    "Place name - Unique names of shops<br>\n",
    "Place type - Categorical name of shops, or types of shops<br>\n",
    "Rating - The numerical value used to determine satisfaction from customers<br>\n",
    "Reviews - Comments based on customers satisfaction, either good or bad<br>\n",
    "Price - Categorical pricing system, $$$ is the highest <br>\n",
    "Delivery option - This shows if the a particular sale was with delivery or not<br>\n",
    "Dine in/Take out: This shows if people bought takeouts or ate in\n"
   ]
  },
  {
   "cell_type": "markdown",
   "id": "8103a49f",
   "metadata": {},
   "source": [
    "## Importing Datasets"
   ]
  },
  {
   "cell_type": "code",
   "execution_count": 2,
   "id": "82973bec",
   "metadata": {},
   "outputs": [],
   "source": [
    "import pandas as pd\n",
    "import numpy as np\n",
    "import matplotlib.pyplot as plt\n",
    "import seaborn as sb\n",
    "\n",
    "%matplotlib inline"
   ]
  },
  {
   "cell_type": "markdown",
   "id": "167fc187",
   "metadata": {},
   "source": [
    "## Extraction of Datasets"
   ]
  },
  {
   "cell_type": "code",
   "execution_count": 3,
   "id": "e8d0a191",
   "metadata": {},
   "outputs": [
    {
     "data": {
      "text/html": [
       "<div>\n",
       "<style scoped>\n",
       "    .dataframe tbody tr th:only-of-type {\n",
       "        vertical-align: middle;\n",
       "    }\n",
       "\n",
       "    .dataframe tbody tr th {\n",
       "        vertical-align: top;\n",
       "    }\n",
       "\n",
       "    .dataframe thead th {\n",
       "        text-align: right;\n",
       "    }\n",
       "</style>\n",
       "<table border=\"1\" class=\"dataframe\">\n",
       "  <thead>\n",
       "    <tr style=\"text-align: right;\">\n",
       "      <th></th>\n",
       "      <th>Region</th>\n",
       "      <th>Place name</th>\n",
       "      <th>Place type</th>\n",
       "      <th>Rating</th>\n",
       "      <th>Reviews</th>\n",
       "      <th>Price</th>\n",
       "      <th>Delivery option</th>\n",
       "      <th>Dine in option</th>\n",
       "      <th>Takeout option</th>\n",
       "    </tr>\n",
       "  </thead>\n",
       "  <tbody>\n",
       "    <tr>\n",
       "      <th>0</th>\n",
       "      <td>C</td>\n",
       "      <td>Dim Kavu</td>\n",
       "      <td>Others</td>\n",
       "      <td>4.6</td>\n",
       "      <td>206.0</td>\n",
       "      <td>$$</td>\n",
       "      <td>False</td>\n",
       "      <td>NaN</td>\n",
       "      <td>NaN</td>\n",
       "    </tr>\n",
       "    <tr>\n",
       "      <th>1</th>\n",
       "      <td>C</td>\n",
       "      <td>Коферум</td>\n",
       "      <td>Cafe</td>\n",
       "      <td>5.0</td>\n",
       "      <td>24.0</td>\n",
       "      <td>$$</td>\n",
       "      <td>False</td>\n",
       "      <td>NaN</td>\n",
       "      <td>True</td>\n",
       "    </tr>\n",
       "    <tr>\n",
       "      <th>2</th>\n",
       "      <td>C</td>\n",
       "      <td>Кофейня Світ Чаю</td>\n",
       "      <td>Coffee shop</td>\n",
       "      <td>5.0</td>\n",
       "      <td>11.0</td>\n",
       "      <td>$$</td>\n",
       "      <td>False</td>\n",
       "      <td>NaN</td>\n",
       "      <td>True</td>\n",
       "    </tr>\n",
       "    <tr>\n",
       "      <th>3</th>\n",
       "      <td>C</td>\n",
       "      <td>Кофейня Starcoff</td>\n",
       "      <td>Coffee shop</td>\n",
       "      <td>4.4</td>\n",
       "      <td>331.0</td>\n",
       "      <td>$$</td>\n",
       "      <td>False</td>\n",
       "      <td>True</td>\n",
       "      <td>True</td>\n",
       "    </tr>\n",
       "    <tr>\n",
       "      <th>4</th>\n",
       "      <td>C</td>\n",
       "      <td>Кофейня \"Friend Zone\"</td>\n",
       "      <td>Coffee shop</td>\n",
       "      <td>5.0</td>\n",
       "      <td>12.0</td>\n",
       "      <td>$$</td>\n",
       "      <td>False</td>\n",
       "      <td>True</td>\n",
       "      <td>True</td>\n",
       "    </tr>\n",
       "  </tbody>\n",
       "</table>\n",
       "</div>"
      ],
      "text/plain": [
       "  Region             Place name   Place type  Rating  Reviews Price  \\\n",
       "0      C               Dim Kavu       Others     4.6    206.0    $$   \n",
       "1      C                Коферум         Cafe     5.0     24.0    $$   \n",
       "2      C       Кофейня Світ Чаю  Coffee shop     5.0     11.0    $$   \n",
       "3      C       Кофейня Starcoff  Coffee shop     4.4    331.0    $$   \n",
       "4      C  Кофейня \"Friend Zone\"  Coffee shop     5.0     12.0    $$   \n",
       "\n",
       "   Delivery option Dine in option Takeout option  \n",
       "0            False            NaN            NaN  \n",
       "1            False            NaN           True  \n",
       "2            False            NaN           True  \n",
       "3            False           True           True  \n",
       "4            False           True           True  "
      ]
     },
     "execution_count": 3,
     "metadata": {},
     "output_type": "execute_result"
    }
   ],
   "source": [
    "coffee = pd.read_csv('coffee.csv')\n",
    "coffee.head()"
   ]
  },
  {
   "cell_type": "code",
   "execution_count": 4,
   "id": "77e405e8",
   "metadata": {},
   "outputs": [
    {
     "data": {
      "text/html": [
       "<div>\n",
       "<style scoped>\n",
       "    .dataframe tbody tr th:only-of-type {\n",
       "        vertical-align: middle;\n",
       "    }\n",
       "\n",
       "    .dataframe tbody tr th {\n",
       "        vertical-align: top;\n",
       "    }\n",
       "\n",
       "    .dataframe thead th {\n",
       "        text-align: right;\n",
       "    }\n",
       "</style>\n",
       "<table border=\"1\" class=\"dataframe\">\n",
       "  <thead>\n",
       "    <tr style=\"text-align: right;\">\n",
       "      <th></th>\n",
       "      <th>Region</th>\n",
       "      <th>Place name</th>\n",
       "      <th>Place type</th>\n",
       "      <th>Rating</th>\n",
       "      <th>Reviews</th>\n",
       "      <th>Price</th>\n",
       "      <th>Delivery option</th>\n",
       "      <th>Dine in option</th>\n",
       "      <th>Takeout option</th>\n",
       "    </tr>\n",
       "  </thead>\n",
       "  <tbody>\n",
       "    <tr>\n",
       "      <th>0</th>\n",
       "      <td>C</td>\n",
       "      <td>Dim Kavu</td>\n",
       "      <td>Others</td>\n",
       "      <td>4.6</td>\n",
       "      <td>206.0</td>\n",
       "      <td>$$</td>\n",
       "      <td>False</td>\n",
       "      <td>NaN</td>\n",
       "      <td>NaN</td>\n",
       "    </tr>\n",
       "    <tr>\n",
       "      <th>1</th>\n",
       "      <td>C</td>\n",
       "      <td>Коферум</td>\n",
       "      <td>Cafe</td>\n",
       "      <td>5.0</td>\n",
       "      <td>24.0</td>\n",
       "      <td>$$</td>\n",
       "      <td>False</td>\n",
       "      <td>NaN</td>\n",
       "      <td>True</td>\n",
       "    </tr>\n",
       "    <tr>\n",
       "      <th>2</th>\n",
       "      <td>C</td>\n",
       "      <td>Кофейня Світ Чаю</td>\n",
       "      <td>Coffee shop</td>\n",
       "      <td>5.0</td>\n",
       "      <td>11.0</td>\n",
       "      <td>$$</td>\n",
       "      <td>False</td>\n",
       "      <td>NaN</td>\n",
       "      <td>True</td>\n",
       "    </tr>\n",
       "    <tr>\n",
       "      <th>3</th>\n",
       "      <td>C</td>\n",
       "      <td>Кофейня Starcoff</td>\n",
       "      <td>Coffee shop</td>\n",
       "      <td>4.4</td>\n",
       "      <td>331.0</td>\n",
       "      <td>$$</td>\n",
       "      <td>False</td>\n",
       "      <td>True</td>\n",
       "      <td>True</td>\n",
       "    </tr>\n",
       "    <tr>\n",
       "      <th>4</th>\n",
       "      <td>C</td>\n",
       "      <td>Кофейня \"Friend Zone\"</td>\n",
       "      <td>Coffee shop</td>\n",
       "      <td>5.0</td>\n",
       "      <td>12.0</td>\n",
       "      <td>$$</td>\n",
       "      <td>False</td>\n",
       "      <td>True</td>\n",
       "      <td>True</td>\n",
       "    </tr>\n",
       "    <tr>\n",
       "      <th>...</th>\n",
       "      <td>...</td>\n",
       "      <td>...</td>\n",
       "      <td>...</td>\n",
       "      <td>...</td>\n",
       "      <td>...</td>\n",
       "      <td>...</td>\n",
       "      <td>...</td>\n",
       "      <td>...</td>\n",
       "      <td>...</td>\n",
       "    </tr>\n",
       "    <tr>\n",
       "      <th>195</th>\n",
       "      <td>H</td>\n",
       "      <td>Artist</td>\n",
       "      <td>Others</td>\n",
       "      <td>4.6</td>\n",
       "      <td>963.0</td>\n",
       "      <td>$$$</td>\n",
       "      <td>False</td>\n",
       "      <td>True</td>\n",
       "      <td>True</td>\n",
       "    </tr>\n",
       "    <tr>\n",
       "      <th>196</th>\n",
       "      <td>H</td>\n",
       "      <td>Dream Cafe</td>\n",
       "      <td>Cafe</td>\n",
       "      <td>4.3</td>\n",
       "      <td>646.0</td>\n",
       "      <td>$$</td>\n",
       "      <td>False</td>\n",
       "      <td>True</td>\n",
       "      <td>True</td>\n",
       "    </tr>\n",
       "    <tr>\n",
       "      <th>197</th>\n",
       "      <td>H</td>\n",
       "      <td>РУТА КАФЕ ПП КУЛІЧЕНКО К.І.</td>\n",
       "      <td>Cafe</td>\n",
       "      <td>4.6</td>\n",
       "      <td>16.0</td>\n",
       "      <td>$$</td>\n",
       "      <td>False</td>\n",
       "      <td>True</td>\n",
       "      <td>True</td>\n",
       "    </tr>\n",
       "    <tr>\n",
       "      <th>198</th>\n",
       "      <td>H</td>\n",
       "      <td>Ob'yektna Kava</td>\n",
       "      <td>Coffee shop</td>\n",
       "      <td>4.7</td>\n",
       "      <td>599.0</td>\n",
       "      <td>$$</td>\n",
       "      <td>False</td>\n",
       "      <td>True</td>\n",
       "      <td>True</td>\n",
       "    </tr>\n",
       "    <tr>\n",
       "      <th>199</th>\n",
       "      <td>H</td>\n",
       "      <td>О...МАРАТ КАФЕ ПП ПОЛІСТЕП</td>\n",
       "      <td>Cafe</td>\n",
       "      <td>4.3</td>\n",
       "      <td>341.0</td>\n",
       "      <td>$$</td>\n",
       "      <td>False</td>\n",
       "      <td>True</td>\n",
       "      <td>NaN</td>\n",
       "    </tr>\n",
       "  </tbody>\n",
       "</table>\n",
       "<p>200 rows × 9 columns</p>\n",
       "</div>"
      ],
      "text/plain": [
       "    Region                   Place name   Place type  Rating  Reviews Price  \\\n",
       "0        C                     Dim Kavu       Others     4.6    206.0    $$   \n",
       "1        C                      Коферум         Cafe     5.0     24.0    $$   \n",
       "2        C             Кофейня Світ Чаю  Coffee shop     5.0     11.0    $$   \n",
       "3        C             Кофейня Starcoff  Coffee shop     4.4    331.0    $$   \n",
       "4        C        Кофейня \"Friend Zone\"  Coffee shop     5.0     12.0    $$   \n",
       "..     ...                          ...          ...     ...      ...   ...   \n",
       "195      H                       Artist       Others     4.6    963.0   $$$   \n",
       "196      H                   Dream Cafe         Cafe     4.3    646.0    $$   \n",
       "197      H  РУТА КАФЕ ПП КУЛІЧЕНКО К.І.         Cafe     4.6     16.0    $$   \n",
       "198      H               Ob'yektna Kava  Coffee shop     4.7    599.0    $$   \n",
       "199      H   О...МАРАТ КАФЕ ПП ПОЛІСТЕП         Cafe     4.3    341.0    $$   \n",
       "\n",
       "     Delivery option Dine in option Takeout option  \n",
       "0              False            NaN            NaN  \n",
       "1              False            NaN           True  \n",
       "2              False            NaN           True  \n",
       "3              False           True           True  \n",
       "4              False           True           True  \n",
       "..               ...            ...            ...  \n",
       "195            False           True           True  \n",
       "196            False           True           True  \n",
       "197            False           True           True  \n",
       "198            False           True           True  \n",
       "199            False           True            NaN  \n",
       "\n",
       "[200 rows x 9 columns]"
      ]
     },
     "execution_count": 4,
     "metadata": {},
     "output_type": "execute_result"
    }
   ],
   "source": [
    "coffee"
   ]
  },
  {
   "cell_type": "markdown",
   "id": "18a3ba49",
   "metadata": {},
   "source": [
    "## Data Exploration"
   ]
  },
  {
   "cell_type": "code",
   "execution_count": 5,
   "id": "b7a84fc2",
   "metadata": {
    "scrolled": false
   },
   "outputs": [
    {
     "name": "stdout",
     "output_type": "stream",
     "text": [
      "<class 'pandas.core.frame.DataFrame'>\n",
      "RangeIndex: 200 entries, 0 to 199\n",
      "Data columns (total 9 columns):\n",
      " #   Column           Non-Null Count  Dtype  \n",
      "---  ------           --------------  -----  \n",
      " 0   Region           200 non-null    object \n",
      " 1   Place name       200 non-null    object \n",
      " 2   Place type       200 non-null    object \n",
      " 3   Rating           198 non-null    float64\n",
      " 4   Reviews          198 non-null    float64\n",
      " 5   Price            200 non-null    object \n",
      " 6   Delivery option  200 non-null    bool   \n",
      " 7   Dine in option   140 non-null    object \n",
      " 8   Takeout option   144 non-null    object \n",
      "dtypes: bool(1), float64(2), object(6)\n",
      "memory usage: 12.8+ KB\n"
     ]
    }
   ],
   "source": [
    "coffee.info()"
   ]
  },
  {
   "cell_type": "code",
   "execution_count": 6,
   "id": "274fc00d",
   "metadata": {},
   "outputs": [
    {
     "data": {
      "text/plain": [
       "array(['C', 'J', 'F', 'B', 'A', 'E', 'D', 'G', 'I', 'H'], dtype=object)"
      ]
     },
     "execution_count": 6,
     "metadata": {},
     "output_type": "execute_result"
    }
   ],
   "source": [
    "coffee['Region'].unique()"
   ]
  },
  {
   "cell_type": "code",
   "execution_count": 7,
   "id": "66d88da4",
   "metadata": {},
   "outputs": [
    {
     "data": {
      "text/html": [
       "<div>\n",
       "<style scoped>\n",
       "    .dataframe tbody tr th:only-of-type {\n",
       "        vertical-align: middle;\n",
       "    }\n",
       "\n",
       "    .dataframe tbody tr th {\n",
       "        vertical-align: top;\n",
       "    }\n",
       "\n",
       "    .dataframe thead th {\n",
       "        text-align: right;\n",
       "    }\n",
       "</style>\n",
       "<table border=\"1\" class=\"dataframe\">\n",
       "  <thead>\n",
       "    <tr style=\"text-align: right;\">\n",
       "      <th></th>\n",
       "      <th>Rating</th>\n",
       "      <th>Reviews</th>\n",
       "    </tr>\n",
       "  </thead>\n",
       "  <tbody>\n",
       "    <tr>\n",
       "      <th>count</th>\n",
       "      <td>198.000000</td>\n",
       "      <td>198.000000</td>\n",
       "    </tr>\n",
       "    <tr>\n",
       "      <th>mean</th>\n",
       "      <td>4.663636</td>\n",
       "      <td>622.494949</td>\n",
       "    </tr>\n",
       "    <tr>\n",
       "      <th>std</th>\n",
       "      <td>0.221648</td>\n",
       "      <td>1400.898666</td>\n",
       "    </tr>\n",
       "    <tr>\n",
       "      <th>min</th>\n",
       "      <td>3.900000</td>\n",
       "      <td>3.000000</td>\n",
       "    </tr>\n",
       "    <tr>\n",
       "      <th>25%</th>\n",
       "      <td>4.600000</td>\n",
       "      <td>47.500000</td>\n",
       "    </tr>\n",
       "    <tr>\n",
       "      <th>50%</th>\n",
       "      <td>4.700000</td>\n",
       "      <td>271.500000</td>\n",
       "    </tr>\n",
       "    <tr>\n",
       "      <th>75%</th>\n",
       "      <td>4.800000</td>\n",
       "      <td>786.250000</td>\n",
       "    </tr>\n",
       "    <tr>\n",
       "      <th>max</th>\n",
       "      <td>5.000000</td>\n",
       "      <td>17937.000000</td>\n",
       "    </tr>\n",
       "  </tbody>\n",
       "</table>\n",
       "</div>"
      ],
      "text/plain": [
       "           Rating       Reviews\n",
       "count  198.000000    198.000000\n",
       "mean     4.663636    622.494949\n",
       "std      0.221648   1400.898666\n",
       "min      3.900000      3.000000\n",
       "25%      4.600000     47.500000\n",
       "50%      4.700000    271.500000\n",
       "75%      4.800000    786.250000\n",
       "max      5.000000  17937.000000"
      ]
     },
     "execution_count": 7,
     "metadata": {},
     "output_type": "execute_result"
    }
   ],
   "source": [
    "coffee.describe()"
   ]
  },
  {
   "cell_type": "code",
   "execution_count": 8,
   "id": "4ea1a076",
   "metadata": {},
   "outputs": [
    {
     "data": {
      "text/plain": [
       "array([nan, True], dtype=object)"
      ]
     },
     "execution_count": 8,
     "metadata": {},
     "output_type": "execute_result"
    }
   ],
   "source": [
    "coffee['Dine in option'].unique()"
   ]
  },
  {
   "cell_type": "code",
   "execution_count": 9,
   "id": "60b9d99d",
   "metadata": {},
   "outputs": [
    {
     "data": {
      "text/plain": [
       "array([False,  True])"
      ]
     },
     "execution_count": 9,
     "metadata": {},
     "output_type": "execute_result"
    }
   ],
   "source": [
    "coffee['Delivery option'].unique()"
   ]
  },
  {
   "cell_type": "code",
   "execution_count": 10,
   "id": "e4db7a8f",
   "metadata": {},
   "outputs": [
    {
     "data": {
      "text/plain": [
       "array([nan, True], dtype=object)"
      ]
     },
     "execution_count": 10,
     "metadata": {},
     "output_type": "execute_result"
    }
   ],
   "source": [
    "coffee['Takeout option'].unique()"
   ]
  },
  {
   "cell_type": "code",
   "execution_count": 11,
   "id": "dd3b72fe",
   "metadata": {},
   "outputs": [
    {
     "data": {
      "text/plain": [
       "array(['Others', 'Cafe', 'Coffee shop', 'Espresso bar'], dtype=object)"
      ]
     },
     "execution_count": 11,
     "metadata": {},
     "output_type": "execute_result"
    }
   ],
   "source": [
    "coffee['Place type'].unique()"
   ]
  },
  {
   "cell_type": "code",
   "execution_count": 12,
   "id": "35abae58",
   "metadata": {},
   "outputs": [
    {
     "data": {
      "text/plain": [
       "array(['$$', '$', '$$$'], dtype=object)"
      ]
     },
     "execution_count": 12,
     "metadata": {},
     "output_type": "execute_result"
    }
   ],
   "source": [
    "coffee['Price'].unique()"
   ]
  },
  {
   "cell_type": "markdown",
   "id": "1fc424ce",
   "metadata": {},
   "source": [
    "## Data Cleaning"
   ]
  },
  {
   "cell_type": "markdown",
   "id": "52190a67",
   "metadata": {},
   "source": [
    "### Data problems\n",
    "* Rating & Review column contains NaN values\n",
    "* Dine in option and Take out option column contains NaN values\n",
    "* Price column is an object variable"
   ]
  },
  {
   "cell_type": "markdown",
   "id": "40bdbeeb",
   "metadata": {},
   "source": [
    "### Solutions\n",
    "* Replace NaN values in the Rating and Reviews columns with the mean values in the columns\n",
    "* Replace the NaN values in the Dine in and Take out option columns with 'Unknown'\n",
    "* Convert the Price column to a categorical variable"
   ]
  },
  {
   "cell_type": "markdown",
   "id": "3e246653",
   "metadata": {},
   "source": [
    "**Replaced NaN with the string 'Unknown'**\n",
    "* According to the data intergrity rule given by data camp"
   ]
  },
  {
   "cell_type": "code",
   "execution_count": 13,
   "id": "12e784d7",
   "metadata": {},
   "outputs": [],
   "source": [
    "coffee[['Dine in option','Takeout option']] = coffee[['Dine in option','Takeout option']].fillna('Unknown')"
   ]
  },
  {
   "cell_type": "code",
   "execution_count": 21,
   "id": "d7509659",
   "metadata": {},
   "outputs": [
    {
     "data": {
      "text/html": [
       "<div>\n",
       "<style scoped>\n",
       "    .dataframe tbody tr th:only-of-type {\n",
       "        vertical-align: middle;\n",
       "    }\n",
       "\n",
       "    .dataframe tbody tr th {\n",
       "        vertical-align: top;\n",
       "    }\n",
       "\n",
       "    .dataframe thead th {\n",
       "        text-align: right;\n",
       "    }\n",
       "</style>\n",
       "<table border=\"1\" class=\"dataframe\">\n",
       "  <thead>\n",
       "    <tr style=\"text-align: right;\">\n",
       "      <th></th>\n",
       "      <th>Region</th>\n",
       "      <th>Place name</th>\n",
       "      <th>Place type</th>\n",
       "      <th>Rating</th>\n",
       "      <th>Reviews</th>\n",
       "      <th>Price</th>\n",
       "      <th>Delivery option</th>\n",
       "      <th>Dine in option</th>\n",
       "      <th>Takeout option</th>\n",
       "    </tr>\n",
       "  </thead>\n",
       "  <tbody>\n",
       "    <tr>\n",
       "      <th>0</th>\n",
       "      <td>C</td>\n",
       "      <td>Dim Kavu</td>\n",
       "      <td>Others</td>\n",
       "      <td>4.6</td>\n",
       "      <td>206.0</td>\n",
       "      <td>$$</td>\n",
       "      <td>False</td>\n",
       "      <td>Unknown</td>\n",
       "      <td>Unknown</td>\n",
       "    </tr>\n",
       "    <tr>\n",
       "      <th>1</th>\n",
       "      <td>C</td>\n",
       "      <td>Коферум</td>\n",
       "      <td>Cafe</td>\n",
       "      <td>5.0</td>\n",
       "      <td>24.0</td>\n",
       "      <td>$$</td>\n",
       "      <td>False</td>\n",
       "      <td>Unknown</td>\n",
       "      <td>True</td>\n",
       "    </tr>\n",
       "    <tr>\n",
       "      <th>2</th>\n",
       "      <td>C</td>\n",
       "      <td>Кофейня Світ Чаю</td>\n",
       "      <td>Coffee shop</td>\n",
       "      <td>5.0</td>\n",
       "      <td>11.0</td>\n",
       "      <td>$$</td>\n",
       "      <td>False</td>\n",
       "      <td>Unknown</td>\n",
       "      <td>True</td>\n",
       "    </tr>\n",
       "    <tr>\n",
       "      <th>3</th>\n",
       "      <td>C</td>\n",
       "      <td>Кофейня Starcoff</td>\n",
       "      <td>Coffee shop</td>\n",
       "      <td>4.4</td>\n",
       "      <td>331.0</td>\n",
       "      <td>$$</td>\n",
       "      <td>False</td>\n",
       "      <td>True</td>\n",
       "      <td>True</td>\n",
       "    </tr>\n",
       "    <tr>\n",
       "      <th>4</th>\n",
       "      <td>C</td>\n",
       "      <td>Кофейня \"Friend Zone\"</td>\n",
       "      <td>Coffee shop</td>\n",
       "      <td>5.0</td>\n",
       "      <td>12.0</td>\n",
       "      <td>$$</td>\n",
       "      <td>False</td>\n",
       "      <td>True</td>\n",
       "      <td>True</td>\n",
       "    </tr>\n",
       "    <tr>\n",
       "      <th>...</th>\n",
       "      <td>...</td>\n",
       "      <td>...</td>\n",
       "      <td>...</td>\n",
       "      <td>...</td>\n",
       "      <td>...</td>\n",
       "      <td>...</td>\n",
       "      <td>...</td>\n",
       "      <td>...</td>\n",
       "      <td>...</td>\n",
       "    </tr>\n",
       "    <tr>\n",
       "      <th>195</th>\n",
       "      <td>H</td>\n",
       "      <td>Artist</td>\n",
       "      <td>Others</td>\n",
       "      <td>4.6</td>\n",
       "      <td>963.0</td>\n",
       "      <td>$$$</td>\n",
       "      <td>False</td>\n",
       "      <td>True</td>\n",
       "      <td>True</td>\n",
       "    </tr>\n",
       "    <tr>\n",
       "      <th>196</th>\n",
       "      <td>H</td>\n",
       "      <td>Dream Cafe</td>\n",
       "      <td>Cafe</td>\n",
       "      <td>4.3</td>\n",
       "      <td>646.0</td>\n",
       "      <td>$$</td>\n",
       "      <td>False</td>\n",
       "      <td>True</td>\n",
       "      <td>True</td>\n",
       "    </tr>\n",
       "    <tr>\n",
       "      <th>197</th>\n",
       "      <td>H</td>\n",
       "      <td>РУТА КАФЕ ПП КУЛІЧЕНКО К.І.</td>\n",
       "      <td>Cafe</td>\n",
       "      <td>4.6</td>\n",
       "      <td>16.0</td>\n",
       "      <td>$$</td>\n",
       "      <td>False</td>\n",
       "      <td>True</td>\n",
       "      <td>True</td>\n",
       "    </tr>\n",
       "    <tr>\n",
       "      <th>198</th>\n",
       "      <td>H</td>\n",
       "      <td>Ob'yektna Kava</td>\n",
       "      <td>Coffee shop</td>\n",
       "      <td>4.7</td>\n",
       "      <td>599.0</td>\n",
       "      <td>$$</td>\n",
       "      <td>False</td>\n",
       "      <td>True</td>\n",
       "      <td>True</td>\n",
       "    </tr>\n",
       "    <tr>\n",
       "      <th>199</th>\n",
       "      <td>H</td>\n",
       "      <td>О...МАРАТ КАФЕ ПП ПОЛІСТЕП</td>\n",
       "      <td>Cafe</td>\n",
       "      <td>4.3</td>\n",
       "      <td>341.0</td>\n",
       "      <td>$$</td>\n",
       "      <td>False</td>\n",
       "      <td>True</td>\n",
       "      <td>Unknown</td>\n",
       "    </tr>\n",
       "  </tbody>\n",
       "</table>\n",
       "<p>200 rows × 9 columns</p>\n",
       "</div>"
      ],
      "text/plain": [
       "    Region                   Place name   Place type  Rating  Reviews Price  \\\n",
       "0        C                     Dim Kavu       Others     4.6    206.0    $$   \n",
       "1        C                      Коферум         Cafe     5.0     24.0    $$   \n",
       "2        C             Кофейня Світ Чаю  Coffee shop     5.0     11.0    $$   \n",
       "3        C             Кофейня Starcoff  Coffee shop     4.4    331.0    $$   \n",
       "4        C        Кофейня \"Friend Zone\"  Coffee shop     5.0     12.0    $$   \n",
       "..     ...                          ...          ...     ...      ...   ...   \n",
       "195      H                       Artist       Others     4.6    963.0   $$$   \n",
       "196      H                   Dream Cafe         Cafe     4.3    646.0    $$   \n",
       "197      H  РУТА КАФЕ ПП КУЛІЧЕНКО К.І.         Cafe     4.6     16.0    $$   \n",
       "198      H               Ob'yektna Kava  Coffee shop     4.7    599.0    $$   \n",
       "199      H   О...МАРАТ КАФЕ ПП ПОЛІСТЕП         Cafe     4.3    341.0    $$   \n",
       "\n",
       "     Delivery option Dine in option Takeout option  \n",
       "0              False        Unknown        Unknown  \n",
       "1              False        Unknown           True  \n",
       "2              False        Unknown           True  \n",
       "3              False           True           True  \n",
       "4              False           True           True  \n",
       "..               ...            ...            ...  \n",
       "195            False           True           True  \n",
       "196            False           True           True  \n",
       "197            False           True           True  \n",
       "198            False           True           True  \n",
       "199            False           True        Unknown  \n",
       "\n",
       "[200 rows x 9 columns]"
      ]
     },
     "execution_count": 21,
     "metadata": {},
     "output_type": "execute_result"
    }
   ],
   "source": [
    "coffee"
   ]
  },
  {
   "cell_type": "markdown",
   "id": "21453053",
   "metadata": {},
   "source": [
    "**Replacing missing values with mean values**"
   ]
  },
  {
   "cell_type": "code",
   "execution_count": 15,
   "id": "7e700680",
   "metadata": {},
   "outputs": [],
   "source": [
    "mean_rating = coffee['Rating'].mean()"
   ]
  },
  {
   "cell_type": "code",
   "execution_count": 22,
   "id": "130805ca",
   "metadata": {},
   "outputs": [],
   "source": [
    "coffee['Rating'] = coffee['Rating'].fillna(mean_rating)"
   ]
  },
  {
   "cell_type": "code",
   "execution_count": 16,
   "id": "a1e28c8c",
   "metadata": {},
   "outputs": [],
   "source": [
    "mean_review = coffee['Reviews'].mean()"
   ]
  },
  {
   "cell_type": "code",
   "execution_count": 23,
   "id": "847aa14e",
   "metadata": {},
   "outputs": [],
   "source": [
    "coffee['Reviews'] = coffee['Reviews'].fillna(mean_review)"
   ]
  },
  {
   "cell_type": "markdown",
   "id": "72018a12",
   "metadata": {},
   "source": [
    "*No Duplicates*"
   ]
  },
  {
   "cell_type": "code",
   "execution_count": 20,
   "id": "ea9c2db7",
   "metadata": {},
   "outputs": [
    {
     "data": {
      "text/plain": [
       "200"
      ]
     },
     "execution_count": 20,
     "metadata": {},
     "output_type": "execute_result"
    }
   ],
   "source": [
    "len(coffee['Place name'].duplicated())"
   ]
  },
  {
   "cell_type": "markdown",
   "id": "9bb1d03e",
   "metadata": {},
   "source": [
    "## Analysis\n",
    "\n",
    "* Determine the highest reviewed shops, regions where they can be found and their ratings"
   ]
  },
  {
   "cell_type": "markdown",
   "id": "88a9befd",
   "metadata": {},
   "source": [
    "## The shop type with the higest review\n",
    "* Coffee Shops"
   ]
  },
  {
   "cell_type": "code",
   "execution_count": 29,
   "id": "a4eeabcc",
   "metadata": {},
   "outputs": [
    {
     "data": {
      "text/plain": [
       "Place type\n",
       "Cafe            30997.494949\n",
       "Coffee shop     71427.494949\n",
       "Espresso bar    10519.000000\n",
       "Others          11555.000000\n",
       "Name: Reviews, dtype: float64"
      ]
     },
     "execution_count": 29,
     "metadata": {},
     "output_type": "execute_result"
    }
   ],
   "source": [
    "coffee.groupby('Place type')['Reviews'].sum()"
   ]
  },
  {
   "cell_type": "markdown",
   "id": "eef34003",
   "metadata": {},
   "source": [
    "## Regions with the highest reviews\n",
    "*Region 'E' had the most reviews and Region 'G' as the second highest  <br> Further analysis was done to get the Place types that were under the region*"
   ]
  },
  {
   "cell_type": "code",
   "execution_count": 24,
   "id": "691339ec",
   "metadata": {
    "scrolled": true
   },
   "outputs": [
    {
     "data": {
      "text/plain": [
       "Region\n",
       "A     8440.000000\n",
       "B     7799.000000\n",
       "C     3876.000000\n",
       "D     9238.000000\n",
       "E    38773.000000\n",
       "F     7655.494949\n",
       "G    15292.000000\n",
       "H    11831.494949\n",
       "I    10889.000000\n",
       "J    10705.000000\n",
       "Name: Reviews, dtype: float64"
      ]
     },
     "execution_count": 24,
     "metadata": {},
     "output_type": "execute_result"
    }
   ],
   "source": [
    "coffee.groupby('Region')['Reviews'].sum()"
   ]
  },
  {
   "cell_type": "markdown",
   "id": "88abb54a",
   "metadata": {},
   "source": [
    "### Coffee Shops are common in the regions with the most reviews"
   ]
  },
  {
   "cell_type": "code",
   "execution_count": 42,
   "id": "532de5fa",
   "metadata": {
    "scrolled": true
   },
   "outputs": [
    {
     "data": {
      "text/plain": [
       "Coffee shop    0.75\n",
       "Cafe           0.20\n",
       "Others         0.05\n",
       "Name: Place type, dtype: float64"
      ]
     },
     "execution_count": 42,
     "metadata": {},
     "output_type": "execute_result"
    }
   ],
   "source": [
    "coffee[coffee['Region']== 'E']['Place type'].value_counts(normalize = True)"
   ]
  },
  {
   "cell_type": "code",
   "execution_count": 27,
   "id": "b588ae51",
   "metadata": {},
   "outputs": [
    {
     "data": {
      "text/html": [
       "<div>\n",
       "<style scoped>\n",
       "    .dataframe tbody tr th:only-of-type {\n",
       "        vertical-align: middle;\n",
       "    }\n",
       "\n",
       "    .dataframe tbody tr th {\n",
       "        vertical-align: top;\n",
       "    }\n",
       "\n",
       "    .dataframe thead th {\n",
       "        text-align: right;\n",
       "    }\n",
       "</style>\n",
       "<table border=\"1\" class=\"dataframe\">\n",
       "  <thead>\n",
       "    <tr style=\"text-align: right;\">\n",
       "      <th></th>\n",
       "      <th>Place type</th>\n",
       "      <th>Reviews</th>\n",
       "      <th>Rating</th>\n",
       "    </tr>\n",
       "  </thead>\n",
       "  <tbody>\n",
       "    <tr>\n",
       "      <th>0</th>\n",
       "      <td>Cafe</td>\n",
       "      <td>3973.0</td>\n",
       "      <td>4.750000</td>\n",
       "    </tr>\n",
       "    <tr>\n",
       "      <th>1</th>\n",
       "      <td>Coffee shop</td>\n",
       "      <td>33601.0</td>\n",
       "      <td>4.653333</td>\n",
       "    </tr>\n",
       "    <tr>\n",
       "      <th>2</th>\n",
       "      <td>Others</td>\n",
       "      <td>1199.0</td>\n",
       "      <td>4.600000</td>\n",
       "    </tr>\n",
       "  </tbody>\n",
       "</table>\n",
       "</div>"
      ],
      "text/plain": [
       "    Place type  Reviews    Rating\n",
       "0         Cafe   3973.0  4.750000\n",
       "1  Coffee shop  33601.0  4.653333\n",
       "2       Others   1199.0  4.600000"
      ]
     },
     "execution_count": 27,
     "metadata": {},
     "output_type": "execute_result"
    }
   ],
   "source": [
    "coffee[coffee['Region']== 'E'].groupby('Place type').agg({'Reviews':'sum', 'Rating':'mean'}).reset_index()"
   ]
  },
  {
   "cell_type": "code",
   "execution_count": 28,
   "id": "9fe259a2",
   "metadata": {},
   "outputs": [
    {
     "data": {
      "text/html": [
       "<div>\n",
       "<style scoped>\n",
       "    .dataframe tbody tr th:only-of-type {\n",
       "        vertical-align: middle;\n",
       "    }\n",
       "\n",
       "    .dataframe tbody tr th {\n",
       "        vertical-align: top;\n",
       "    }\n",
       "\n",
       "    .dataframe thead th {\n",
       "        text-align: right;\n",
       "    }\n",
       "</style>\n",
       "<table border=\"1\" class=\"dataframe\">\n",
       "  <thead>\n",
       "    <tr style=\"text-align: right;\">\n",
       "      <th></th>\n",
       "      <th>Place type</th>\n",
       "      <th>Reviews</th>\n",
       "      <th>Rating</th>\n",
       "    </tr>\n",
       "  </thead>\n",
       "  <tbody>\n",
       "    <tr>\n",
       "      <th>0</th>\n",
       "      <td>Cafe</td>\n",
       "      <td>4677.0</td>\n",
       "      <td>4.725000</td>\n",
       "    </tr>\n",
       "    <tr>\n",
       "      <th>1</th>\n",
       "      <td>Coffee shop</td>\n",
       "      <td>3641.0</td>\n",
       "      <td>4.850000</td>\n",
       "    </tr>\n",
       "    <tr>\n",
       "      <th>2</th>\n",
       "      <td>Espresso bar</td>\n",
       "      <td>4760.0</td>\n",
       "      <td>4.680000</td>\n",
       "    </tr>\n",
       "    <tr>\n",
       "      <th>3</th>\n",
       "      <td>Others</td>\n",
       "      <td>2214.0</td>\n",
       "      <td>4.866667</td>\n",
       "    </tr>\n",
       "  </tbody>\n",
       "</table>\n",
       "</div>"
      ],
      "text/plain": [
       "     Place type  Reviews    Rating\n",
       "0          Cafe   4677.0  4.725000\n",
       "1   Coffee shop   3641.0  4.850000\n",
       "2  Espresso bar   4760.0  4.680000\n",
       "3        Others   2214.0  4.866667"
      ]
     },
     "execution_count": 28,
     "metadata": {},
     "output_type": "execute_result"
    }
   ],
   "source": [
    "coffee[coffee['Region']== 'G'].groupby('Place type').agg({'Reviews':'sum', 'Rating':'mean'}).reset_index()"
   ]
  },
  {
   "cell_type": "markdown",
   "id": "5d27ae0c",
   "metadata": {},
   "source": [
    "## Other data manipulation"
   ]
  },
  {
   "cell_type": "markdown",
   "id": "ca9d692b",
   "metadata": {},
   "source": [
    "### Total Reviews and Ratings across place types\n",
    "*Coffee shops have higher amounts of reviews across shops, but other types have higher ratings*"
   ]
  },
  {
   "cell_type": "code",
   "execution_count": 31,
   "id": "83dd1213",
   "metadata": {},
   "outputs": [
    {
     "data": {
      "text/html": [
       "<div>\n",
       "<style scoped>\n",
       "    .dataframe tbody tr th:only-of-type {\n",
       "        vertical-align: middle;\n",
       "    }\n",
       "\n",
       "    .dataframe tbody tr th {\n",
       "        vertical-align: top;\n",
       "    }\n",
       "\n",
       "    .dataframe thead th {\n",
       "        text-align: right;\n",
       "    }\n",
       "</style>\n",
       "<table border=\"1\" class=\"dataframe\">\n",
       "  <thead>\n",
       "    <tr style=\"text-align: right;\">\n",
       "      <th></th>\n",
       "      <th>Place type</th>\n",
       "      <th>Reviews</th>\n",
       "      <th>Rating</th>\n",
       "    </tr>\n",
       "  </thead>\n",
       "  <tbody>\n",
       "    <tr>\n",
       "      <th>0</th>\n",
       "      <td>Cafe</td>\n",
       "      <td>30997.494949</td>\n",
       "      <td>4.599373</td>\n",
       "    </tr>\n",
       "    <tr>\n",
       "      <th>1</th>\n",
       "      <td>Coffee shop</td>\n",
       "      <td>71427.494949</td>\n",
       "      <td>4.681068</td>\n",
       "    </tr>\n",
       "    <tr>\n",
       "      <th>2</th>\n",
       "      <td>Espresso bar</td>\n",
       "      <td>10519.000000</td>\n",
       "      <td>4.690000</td>\n",
       "    </tr>\n",
       "    <tr>\n",
       "      <th>3</th>\n",
       "      <td>Others</td>\n",
       "      <td>11555.000000</td>\n",
       "      <td>4.724000</td>\n",
       "    </tr>\n",
       "  </tbody>\n",
       "</table>\n",
       "</div>"
      ],
      "text/plain": [
       "     Place type       Reviews    Rating\n",
       "0          Cafe  30997.494949  4.599373\n",
       "1   Coffee shop  71427.494949  4.681068\n",
       "2  Espresso bar  10519.000000  4.690000\n",
       "3        Others  11555.000000  4.724000"
      ]
     },
     "execution_count": 31,
     "metadata": {},
     "output_type": "execute_result"
    }
   ],
   "source": [
    "coffee.groupby('Place type').agg({'Reviews': 'sum', 'Rating':'mean'}).reset_index()"
   ]
  },
  {
   "cell_type": "markdown",
   "id": "433b804b",
   "metadata": {},
   "source": [
    "### Delivery options with the most reviews\n",
    "* Sales without Delivery options were mostly reviewed except for 'other' shop type\n",
    "* If number of review is a success criteria, Sales without delivery are better for the company"
   ]
  },
  {
   "cell_type": "code",
   "execution_count": 30,
   "id": "094b6233",
   "metadata": {
    "scrolled": true
   },
   "outputs": [
    {
     "data": {
      "text/plain": [
       "Place type    Delivery option\n",
       "Cafe          False              19468.494949\n",
       "              True               11529.000000\n",
       "Coffee shop   False              45766.494949\n",
       "              True               25661.000000\n",
       "Espresso bar  False               5802.000000\n",
       "              True                4717.000000\n",
       "Others        False               4981.000000\n",
       "              True                6574.000000\n",
       "Name: Reviews, dtype: float64"
      ]
     },
     "execution_count": 30,
     "metadata": {},
     "output_type": "execute_result"
    }
   ],
   "source": [
    "coffee.groupby(['Place type', 'Delivery option'])['Reviews'].sum()"
   ]
  },
  {
   "cell_type": "markdown",
   "id": "4db14b54",
   "metadata": {},
   "source": [
    "## Data Visualisations\n",
    "*The visulaizations below are representations of the analysis above*"
   ]
  },
  {
   "cell_type": "markdown",
   "id": "7386a785",
   "metadata": {},
   "source": [
    "### Relationship between Rating and Review\n",
    "* The plot below shows that places have average ratings of 4.4-4.8. \n",
    "* It also shows that there are less delivered sales"
   ]
  },
  {
   "cell_type": "code",
   "execution_count": 49,
   "id": "a3221e37",
   "metadata": {
    "scrolled": true
   },
   "outputs": [
    {
     "data": {
      "image/png": "[encoded data removed]",
      "text/plain": [
       "<Figure size 432x288 with 1 Axes>"
      ]
     },
     "metadata": {
      "needs_background": "light"
     },
     "output_type": "display_data"
    }
   ],
   "source": [
    "sb.scatterplot(data = coffee, x = 'Reviews', y= 'Rating', hue = 'Delivery option');\n",
    "plt.xlim(0,3000);\n",
    "plt.title('Relationship between Ratings and Relationship');"
   ]
  },
  {
   "cell_type": "markdown",
   "id": "1b60056b",
   "metadata": {},
   "source": [
    "### Correlation\n",
    "* Theres a low negative correlation between reviews and rating"
   ]
  },
  {
   "cell_type": "code",
   "execution_count": 65,
   "id": "0a3d30c6",
   "metadata": {
    "scrolled": false
   },
   "outputs": [
    {
     "data": {
      "image/png": "[encoded data removed]",
      "text/plain": [
       "<Figure size 432x288 with 2 Axes>"
      ]
     },
     "metadata": {
      "needs_background": "light"
     },
     "output_type": "display_data"
    }
   ],
   "source": [
    "sb.heatmap(coffee[['Reviews','Rating']].corr(),cmap ='vlag_r', center = 0, annot = True, fmt = '.3f');"
   ]
  },
  {
   "cell_type": "code",
   "execution_count": 57,
   "id": "7407285b",
   "metadata": {
    "scrolled": true
   },
   "outputs": [
    {
     "data": {
      "image/png": "[encoded data removed]",
      "text/plain": [
       "<Figure size 576x432 with 1 Axes>"
      ]
     },
     "metadata": {
      "needs_background": "light"
     },
     "output_type": "display_data"
    }
   ],
   "source": [
    "plt.figure(figsize = (8,6))\n",
    "sb.violinplot(data = coffee, y = 'Region', x= 'Rating');"
   ]
  },
  {
   "cell_type": "markdown",
   "id": "b5bbda5c",
   "metadata": {},
   "source": [
    "### Distribution of Ratings\n",
    "The plot below shows a unimodal distribution<br>\n",
    "The 4.6 rating is the highest\n"
   ]
  },
  {
   "cell_type": "code",
   "execution_count": 52,
   "id": "31f9d135",
   "metadata": {},
   "outputs": [
    {
     "data": {
      "image/png": "[encoded data removed]",
      "text/plain": [
       "<Figure size 432x288 with 1 Axes>"
      ]
     },
     "metadata": {
      "needs_background": "light"
     },
     "output_type": "display_data"
    }
   ],
   "source": [
    "coffee['Rating'].hist(bins = 100);"
   ]
  },
  {
   "cell_type": "markdown",
   "id": "4d38c2e3",
   "metadata": {},
   "source": [
    "### Distribution of Reviews\n",
    "* Majority of the reviews were between 0-2500\n",
    "* Reviews less than 2500 were the highest"
   ]
  },
  {
   "cell_type": "code",
   "execution_count": 56,
   "id": "9fa532c4",
   "metadata": {},
   "outputs": [
    {
     "data": {
      "image/png": "[encoded data removed]",
      "text/plain": [
       "<Figure size 432x288 with 1 Axes>"
      ]
     },
     "metadata": {
      "needs_background": "light"
     },
     "output_type": "display_data"
    }
   ],
   "source": [
    "coffee['Reviews'].hist(bins = 300);\n",
    "plt.xlim(0,3000);"
   ]
  },
  {
   "cell_type": "markdown",
   "id": "e2ab1d40",
   "metadata": {},
   "source": [
    "### Shop types in relationship to Reviews\n",
    "* Coffee shop is the highest reviewed shop, followed by the Espresso bar"
   ]
  },
  {
   "cell_type": "code",
   "execution_count": 58,
   "id": "709e1695",
   "metadata": {},
   "outputs": [
    {
     "data": {
      "image/png": "[encoded data removed]",
      "text/plain": [
       "<Figure size 432x288 with 1 Axes>"
      ]
     },
     "metadata": {
      "needs_background": "light"
     },
     "output_type": "display_data"
    }
   ],
   "source": [
    "sb.barplot(data = coffee, x= 'Place type', y = 'Reviews', palette = 'Greens');\n",
    "plt.title('Amount of reviews per Shop type');"
   ]
  },
  {
   "cell_type": "markdown",
   "id": "88c29e1b",
   "metadata": {},
   "source": [
    "## Summary"
   ]
  },
  {
   "cell_type": "markdown",
   "id": "bde486e1",
   "metadata": {},
   "source": [
    "* The coffee shop is the highest reviewed shop type and can there by be invested in\n",
    "* Region E and G are the region with the most reviews, with the coffee shop and Espresso bars as the highest review respectively\n",
    "* The 'Other' shops are rated higher than other types"
   ]
  }
 ],
 "metadata": {
  "kernelspec": {
   "display_name": "Python 3 (ipykernel)",
   "language": "python",
   "name": "python3"
  },
  "language_info": {
   "codemirror_mode": {
    "name": "ipython",
    "version": 3
   },
   "file_extension": ".py",
   "mimetype": "text/x-python",
   "name": "python",
   "nbconvert_exporter": "python",
   "pygments_lexer": "ipython3",
   "version": "3.9.12"
  }
 },
 "nbformat": 4,
 "nbformat_minor": 5
}
